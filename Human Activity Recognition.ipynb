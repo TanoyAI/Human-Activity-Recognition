{
  "nbformat": 4,
  "nbformat_minor": 0,
  "metadata": {
    "accelerator": "GPU",
    "colab": {
      "name": "HAR_LSTM.ipynb",
      "version": "0.3.2",
      "provenance": [],
      "collapsed_sections": [],
      "toc_visible": true
    },
    "kernelspec": {
      "display_name": "Python 3",
      "language": "python",
      "name": "python3"
    },
    "language_info": {
      "codemirror_mode": {
        "name": "ipython",
        "version": 3
      },
      "file_extension": ".py",
      "mimetype": "text/x-python",
      "name": "python",
      "nbconvert_exporter": "python",
      "pygments_lexer": "ipython3",
      "version": "3.6.5"
    }
  },
  "cells": [
    {
      "cell_type": "code",
      "metadata": {
        "colab_type": "code",
        "id": "aU3gvHck60mY",
        "outputId": "14b356d0-148c-4837-d858-fb1b51d99184",
        "colab": {
          "base_uri": "https://localhost:8080/",
          "height": 669
        }
      },
      "source": [
        " !unzip UCI_HAR_Dataset.zip"
      ],
      "execution_count": 1,
      "outputs": [
        {
          "output_type": "stream",
          "text": [
            "Archive:  UCI_HAR_Dataset.zip\n",
            "  inflating: UCI_HAR_Dataset/.DS_Store  \n",
            "  inflating: UCI_HAR_Dataset/_DS_Store  \n",
            "  inflating: UCI_HAR_Dataset/activity_labels.txt  \n",
            "   creating: UCI_HAR_Dataset/csv_files/\n",
            "  inflating: UCI_HAR_Dataset/csv_files/test.csv  \n",
            "  inflating: UCI_HAR_Dataset/csv_files/train.csv  \n",
            "  inflating: UCI_HAR_Dataset/features.txt  \n",
            "  inflating: UCI_HAR_Dataset/features_info.txt  \n",
            "  inflating: UCI_HAR_Dataset/README.txt  \n",
            "   creating: UCI_HAR_Dataset/test/\n",
            "   creating: UCI_HAR_Dataset/test/Inertial Signals/\n",
            "  inflating: UCI_HAR_Dataset/test/Inertial Signals/body_acc_x_test.txt  \n",
            "  inflating: UCI_HAR_Dataset/test/Inertial Signals/body_acc_y_test.txt  \n",
            "  inflating: UCI_HAR_Dataset/test/Inertial Signals/body_acc_z_test.txt  \n",
            "  inflating: UCI_HAR_Dataset/test/Inertial Signals/body_gyro_x_test.txt  \n",
            "  inflating: UCI_HAR_Dataset/test/Inertial Signals/body_gyro_y_test.txt  \n",
            "  inflating: UCI_HAR_Dataset/test/Inertial Signals/body_gyro_z_test.txt  \n",
            "  inflating: UCI_HAR_Dataset/test/Inertial Signals/total_acc_x_test.txt  \n",
            "  inflating: UCI_HAR_Dataset/test/Inertial Signals/total_acc_y_test.txt  \n",
            "  inflating: UCI_HAR_Dataset/test/Inertial Signals/total_acc_z_test.txt  \n",
            "  inflating: UCI_HAR_Dataset/test/subject_test.txt  \n",
            "  inflating: UCI_HAR_Dataset/test/X_test.txt  \n",
            "  inflating: UCI_HAR_Dataset/test/y_test.txt  \n",
            "   creating: UCI_HAR_Dataset/train/\n",
            "  inflating: UCI_HAR_Dataset/train/.DS_Store  \n",
            "   creating: UCI_HAR_Dataset/train/Inertial Signals/\n",
            "  inflating: UCI_HAR_Dataset/train/Inertial Signals/body_acc_x_train.txt  \n",
            "  inflating: UCI_HAR_Dataset/train/Inertial Signals/body_acc_y_train.txt  \n",
            "  inflating: UCI_HAR_Dataset/train/Inertial Signals/body_acc_z_train.txt  \n",
            "  inflating: UCI_HAR_Dataset/train/Inertial Signals/body_gyro_x_train.txt  \n",
            "  inflating: UCI_HAR_Dataset/train/Inertial Signals/body_gyro_y_train.txt  \n",
            "  inflating: UCI_HAR_Dataset/train/Inertial Signals/body_gyro_z_train.txt  \n",
            "  inflating: UCI_HAR_Dataset/train/Inertial Signals/total_acc_x_train.txt  \n",
            "  inflating: UCI_HAR_Dataset/train/Inertial Signals/total_acc_y_train.txt  \n",
            "  inflating: UCI_HAR_Dataset/train/Inertial Signals/total_acc_z_train.txt  \n",
            "  inflating: UCI_HAR_Dataset/train/subject_train.txt  \n",
            "  inflating: UCI_HAR_Dataset/train/X_train.txt  \n",
            "  inflating: UCI_HAR_Dataset/train/y_train.txt  \n"
          ],
          "name": "stdout"
        }
      ]
    },
    {
      "cell_type": "code",
      "metadata": {
        "colab_type": "code",
        "id": "tHAWcBok_qUr",
        "colab": {}
      },
      "source": [
        "### Importing Libraries"
      ],
      "execution_count": 0,
      "outputs": []
    },
    {
      "cell_type": "code",
      "metadata": {
        "colab_type": "code",
        "id": "6UjF2jom60mm",
        "outputId": "434f529f-df70-45d8-a778-6af818aaa9f1",
        "colab": {
          "base_uri": "https://localhost:8080/",
          "height": 33
        }
      },
      "source": [
        "import pandas as pd\n",
        "import numpy as np\n",
        "import warnings\n",
        "warnings.filterwarnings(\"ignore\")\n",
        "import random\n",
        "# Importing tensorflow\n",
        "np.random.seed(42)\n",
        "import tensorflow as tf\n",
        "tf.set_random_seed(42)\n",
        "\n",
        "\n",
        "# Importing libraries\n",
        "from keras.models import Sequential\n",
        "from keras.layers import LSTM\n",
        "from keras.layers.core import Dense, Dropout\n",
        "from keras.layers.normalization import BatchNormalization\n",
        "from keras.optimizers import Adam\n",
        "from keras import backend as K\n",
        "\n",
        "from keras.layers import Conv1D, MaxPooling1D, Dense, Flatten, Dropout,Conv2D,MaxPooling2D"
      ],
      "execution_count": 2,
      "outputs": [
        {
          "output_type": "stream",
          "text": [
            "Using TensorFlow backend.\n"
          ],
          "name": "stderr"
        }
      ]
    },
    {
      "cell_type": "code",
      "metadata": {
        "colab_type": "code",
        "id": "olWXyUmO60mx",
        "colab": {}
      },
      "source": [
        "# Activities are the class labels\n",
        "# It is a 6 class classification\n",
        "ACTIVITIES = {\n",
        "    0: 'WALKING',\n",
        "    1: 'WALKING_UPSTAIRS',\n",
        "    2: 'WALKING_DOWNSTAIRS',\n",
        "    3: 'SITTING',\n",
        "    4: 'STANDING',\n",
        "    5: 'LAYING',\n",
        "}\n",
        "\n",
        "\n",
        "ACTIVITIES1 = {\n",
        "    0: 'WALKING',\n",
        "    1: 'WALKING_UPSTAIRS',\n",
        "    2: 'WALKING_DOWNSTAIRS',\n",
        "}\n",
        "\n",
        "ACTIVITIES2 = {\n",
        "    0: 'SITTING',\n",
        "    1: 'STANDING',\n",
        "    2: 'LAYING',\n",
        "}\n",
        "\n",
        "ACTIVITIES3 = {\n",
        "    0: 'SITTING',\n",
        "    1: 'STANDING',\n",
        "}\n",
        "\n",
        "# Utility function to print the confusion matrix\n",
        "def confusion_matrix(Y_true, Y_pred):\n",
        "    Y_true = pd.Series([ACTIVITIES[y] for y in np.argmax(Y_true, axis=1)])\n",
        "    Y_pred = pd.Series([ACTIVITIES[y] for y in np.argmax(Y_pred, axis=1)])\n",
        "\n",
        "    return pd.crosstab(Y_true, Y_pred, rownames=['True'], colnames=['Pred'])\n",
        "\n",
        "# Utility function to print the confusion matrix\n",
        "def confusion_matrix_1(Y_true, Y_pred):\n",
        "    Y_true = pd.Series([ACTIVITIES1[y] for y in np.argmax(Y_true, axis=1)])\n",
        "    Y_pred = pd.Series([ACTIVITIES1[y] for y in np.argmax(Y_pred, axis=1)])\n",
        "\n",
        "    return pd.crosstab(Y_true, Y_pred, rownames=['True'], colnames=['Pred'])\n",
        "  \n",
        "  \n",
        "# Utility function to print the confusion matrix\n",
        "def confusion_matrix_2(Y_true, Y_pred):\n",
        "    Y_true = pd.Series([ACTIVITIES2[y] for y in np.argmax(Y_true, axis=1)])\n",
        "    Y_pred = pd.Series([ACTIVITIES2[y] for y in np.argmax(Y_pred, axis=1)])\n",
        "\n",
        "    return pd.crosstab(Y_true, Y_pred, rownames=['True'], colnames=['Pred'])\n",
        "  \n",
        "# Utility function to print the confusion matrix\n",
        "def confusion_matrix_3(Y_true, Y_pred):\n",
        "    Y_true = pd.Series([ACTIVITIES3[y] for y in np.argmax(Y_true, axis=1)])\n",
        "    Y_pred = pd.Series([ACTIVITIES3[y] for y in np.argmax(Y_pred, axis=1)])\n",
        "\n",
        "    return pd.crosstab(Y_true, Y_pred, rownames=['True'], colnames=['Pred'])"
      ],
      "execution_count": 0,
      "outputs": []
    },
    {
      "cell_type": "markdown",
      "metadata": {
        "colab_type": "text",
        "id": "6q3ImG3V60m7"
      },
      "source": [
        "### Data Gathering"
      ]
    },
    {
      "cell_type": "code",
      "metadata": {
        "colab_type": "code",
        "id": "RLYd-rC_60m-",
        "colab": {}
      },
      "source": [
        "# Data directory\n",
        "DATADIR = 'UCI_HAR_Dataset'"
      ],
      "execution_count": 0,
      "outputs": []
    },
    {
      "cell_type": "code",
      "metadata": {
        "colab_type": "code",
        "id": "FTtNVBD260nI",
        "colab": {}
      },
      "source": [
        "# Raw data signals\n",
        "# Signals are from Accelerometer and Gyroscope\n",
        "# The signals are in x,y,z directions\n",
        "# Sensor signals are filtered to have only body acceleration\n",
        "# excluding the acceleration due to gravity\n",
        "# Triaxial acceleration from the accelerometer is total acceleration\n",
        "SIGNALS = [\n",
        "    \"body_acc_x\",\n",
        "    \"body_acc_y\",\n",
        "    \"body_acc_z\",\n",
        "    \"body_gyro_x\",\n",
        "    \"body_gyro_y\",\n",
        "    \"body_gyro_z\",\n",
        "    \"total_acc_x\",\n",
        "    \"total_acc_y\",\n",
        "    \"total_acc_z\"\n",
        "]"
      ],
      "execution_count": 0,
      "outputs": []
    },
    {
      "cell_type": "code",
      "metadata": {
        "colab_type": "code",
        "id": "BaT1t2P_60nS",
        "colab": {}
      },
      "source": [
        "# Utility function to read the data from csv file\n",
        "def _read_csv(filename):\n",
        "    return pd.read_csv(filename, delim_whitespace=True, header=None)\n",
        "\n",
        "# Utility function to load the load\n",
        "def load_signals(subset):\n",
        "    signals_data = []\n",
        "\n",
        "    for signal in SIGNALS:\n",
        "        filename = f'UCI_HAR_Dataset/{subset}/Inertial Signals/{signal}_{subset}.txt'\n",
        "        signals_data.append(\n",
        "            _read_csv(filename).as_matrix()\n",
        "        ) \n",
        "\n",
        "    # Transpose is used to change the dimensionality of the output,\n",
        "    # aggregating the signals by combination of sample/timestep.\n",
        "    # Resultant shape is (7352 train/2947 test samples, 128 timesteps, 9 signals)\n",
        "    return np.transpose(signals_data, (1, 2, 0))"
      ],
      "execution_count": 0,
      "outputs": []
    },
    {
      "cell_type": "code",
      "metadata": {
        "colab_type": "code",
        "id": "mvS17jg960nc",
        "colab": {}
      },
      "source": [
        "def load_y(subset):\n",
        "    global dir_path\n",
        "    if subset is \"train\":\n",
        "        y_path = DATADIR + '/train/y_train.txt'\n",
        "    elif subset is \"test\":\n",
        "        y_path = DATADIR + '/test/y_test.txt'\n",
        "\n",
        "    with open(y_path) as f:\n",
        "        container = f.readlines()\n",
        "\n",
        "    result = []\n",
        "    for line in container:\n",
        "        num_str = line.strip()\n",
        "        result.append(int(num_str))\n",
        "    return np.array(result)"
      ],
      "execution_count": 0,
      "outputs": []
    },
    {
      "cell_type": "code",
      "metadata": {
        "colab_type": "code",
        "id": "SaaT7NtL60nm",
        "colab": {}
      },
      "source": [
        "def load_data():\n",
        "    \"\"\"\n",
        "    Obtain the dataset from multiple files.\n",
        "    Returns: X_train, X_test, y_train, y_test\n",
        "    \"\"\"\n",
        "    X_train, X_test = load_signals('train'), load_signals('test')\n",
        "    y_train, y_test = load_y('train'), load_y('test')\n",
        "\n",
        "    return X_train, X_test, y_train, y_test"
      ],
      "execution_count": 0,
      "outputs": []
    },
    {
      "cell_type": "code",
      "metadata": {
        "colab_type": "code",
        "id": "vt94imtO60n9",
        "colab": {}
      },
      "source": [
        "# Configuring a session\n",
        "session_conf = tf.ConfigProto(\n",
        "    intra_op_parallelism_threads=1,\n",
        "    inter_op_parallelism_threads=1\n",
        ")"
      ],
      "execution_count": 0,
      "outputs": []
    },
    {
      "cell_type": "code",
      "metadata": {
        "colab_type": "code",
        "id": "BalcdEZ860oK",
        "colab": {}
      },
      "source": [
        "# Import Keras\n",
        "sess = tf.Session(graph=tf.get_default_graph(), config=session_conf)\n",
        "K.set_session(sess)"
      ],
      "execution_count": 0,
      "outputs": []
    },
    {
      "cell_type": "code",
      "metadata": {
        "colab_type": "code",
        "id": "mq-gxrH560oq",
        "colab": {}
      },
      "source": [
        "# Utility function to count the number of classes\n",
        "def _count_classes(y):\n",
        "    return len(set([tuple(category) for category in y]))"
      ],
      "execution_count": 0,
      "outputs": []
    },
    {
      "cell_type": "code",
      "metadata": {
        "colab_type": "code",
        "id": "w9FGyQ5860oz",
        "colab": {}
      },
      "source": [
        "# Loading the train and test data\n",
        "X_train, X_test, Y_train, Y_test = load_data()"
      ],
      "execution_count": 0,
      "outputs": []
    },
    {
      "cell_type": "code",
      "metadata": {
        "colab_type": "code",
        "id": "aPVzHcNL60o8",
        "outputId": "3fcb9c85-1b2d-41b4-95ba-bfd7754dbca0",
        "colab": {
          "base_uri": "https://localhost:8080/",
          "height": 67
        }
      },
      "source": [
        "timesteps = len(X_train[0])\n",
        "input_dim = len(X_train[0][0])\n",
        "#n_classes = _count_classes(Y_train)\n",
        "\n",
        "print(timesteps)\n",
        "print(input_dim)\n",
        "print(len(X_train))"
      ],
      "execution_count": 14,
      "outputs": [
        {
          "output_type": "stream",
          "text": [
            "128\n",
            "9\n",
            "7352\n"
          ],
          "name": "stdout"
        }
      ]
    },
    {
      "cell_type": "code",
      "metadata": {
        "id": "Soo18ZSZcq8H",
        "colab_type": "code",
        "colab": {}
      },
      "source": [
        "unique, counts = np.unique(Y_test, return_counts=True)"
      ],
      "execution_count": 0,
      "outputs": []
    },
    {
      "cell_type": "code",
      "metadata": {
        "id": "a_fvZJO_ctBG",
        "colab_type": "code",
        "outputId": "77586f11-1507-43e6-a640-82f3ea4fc9db",
        "colab": {
          "base_uri": "https://localhost:8080/",
          "height": 67
        }
      },
      "source": [
        "print(\"Unique classes and their counts--\")\n",
        "print(unique)\n",
        "print(counts)"
      ],
      "execution_count": 16,
      "outputs": [
        {
          "output_type": "stream",
          "text": [
            "Unique classes and their counts--\n",
            "[1 2 3 4 5 6]\n",
            "[496 471 420 491 532 537]\n"
          ],
          "name": "stdout"
        }
      ]
    },
    {
      "cell_type": "markdown",
      "metadata": {
        "id": "ZSKzkiwQoRmq",
        "colab_type": "text"
      },
      "source": [
        "### Loading Data"
      ]
    },
    {
      "cell_type": "code",
      "metadata": {
        "id": "3yQ4i0N3oRmt",
        "colab_type": "code",
        "colab": {}
      },
      "source": [
        "# Load all train and test data (* dynamic and static data are mixed.)\n",
        "\n",
        "X_train_all = load_signals(\"train\")   # at this stage, the data includes both dynamic and static HAR data\n",
        "Y_train_all = load_y(\"train\")"
      ],
      "execution_count": 0,
      "outputs": []
    },
    {
      "cell_type": "code",
      "metadata": {
        "id": "2lK-wZUXoRm1",
        "colab_type": "code",
        "colab": {}
      },
      "source": [
        "X_test_all = load_signals(\"test\")\n",
        "Y_test_all = load_y(\"test\")"
      ],
      "execution_count": 0,
      "outputs": []
    },
    {
      "cell_type": "code",
      "metadata": {
        "id": "LRVbD9FeoRm9",
        "colab_type": "code",
        "outputId": "ff2825bb-7449-426f-a479-1b4ae96aff2c",
        "colab": {
          "base_uri": "https://localhost:8080/",
          "height": 50
        }
      },
      "source": [
        "print(X_train_all.shape, Y_test_all.shape)\n",
        "print(X_test_all.shape, Y_test_all.shape) #[samples, timesteps, features]"
      ],
      "execution_count": 19,
      "outputs": [
        {
          "output_type": "stream",
          "text": [
            "(7352, 128, 9) (2947,)\n",
            "(2947, 128, 9) (2947,)\n"
          ],
          "name": "stdout"
        }
      ]
    },
    {
      "cell_type": "markdown",
      "metadata": {
        "id": "x5JotwXgoRnO",
        "colab_type": "text"
      },
      "source": [
        "### Separating Data- Dynamic (WALKING, WALKING UPSTAIRS,  WALKING DOWNSTAIRS)"
      ]
    },
    {
      "cell_type": "code",
      "metadata": {
        "id": "BGnhDxRooRnQ",
        "colab_type": "code",
        "colab": {}
      },
      "source": [
        "import random\n",
        "\n",
        "# Select dynamic HAR train data\n",
        "\n",
        "dynamic_1 = np.where(Y_train_all == 1)[0]\n",
        "dynamic_2 = np.where(Y_train_all == 2)[0]\n",
        "dynamic_3 = np.where(Y_train_all == 3)[0]\n",
        "dynamic = np.concatenate([dynamic_1, dynamic_2, dynamic_3])\n",
        "dynamic_list = dynamic.tolist()\n",
        "\n",
        "# Shuffle dynamic data index\n",
        "r = random.random()\n",
        "random.shuffle(dynamic_list, lambda: r)\n",
        "\n",
        "dynamic = np.array(dynamic_list)\n",
        "\n",
        "X_train = X_train_all[dynamic]\n",
        "Y_train = Y_train_all[dynamic]"
      ],
      "execution_count": 0,
      "outputs": []
    },
    {
      "cell_type": "code",
      "metadata": {
        "id": "etEBk5EgoRne",
        "colab_type": "code",
        "outputId": "5b323305-5bdb-4d89-ce37-16be62c31ff2",
        "colab": {
          "base_uri": "https://localhost:8080/",
          "height": 50
        }
      },
      "source": [
        "print (\"train_dynamic shape: \", Y_train.shape)\n",
        "\n",
        "np.unique(Y_train)"
      ],
      "execution_count": 0,
      "outputs": [
        {
          "output_type": "stream",
          "text": [
            "train_dynamic shape:  (3285,)\n"
          ],
          "name": "stdout"
        },
        {
          "output_type": "execute_result",
          "data": {
            "text/plain": [
              "array([1, 2, 3])"
            ]
          },
          "metadata": {
            "tags": []
          },
          "execution_count": 287
        }
      ]
    },
    {
      "cell_type": "code",
      "metadata": {
        "id": "0-Xsf9V8oRnq",
        "colab_type": "code",
        "outputId": "e63ee8e1-08c9-4cb7-b561-1bc48801b2fb",
        "colab": {
          "base_uri": "https://localhost:8080/",
          "height": 33
        }
      },
      "source": [
        "X_train.shape"
      ],
      "execution_count": 0,
      "outputs": [
        {
          "output_type": "execute_result",
          "data": {
            "text/plain": [
              "(3285, 128, 9)"
            ]
          },
          "metadata": {
            "tags": []
          },
          "execution_count": 288
        }
      ]
    },
    {
      "cell_type": "code",
      "metadata": {
        "id": "2tFqeEcLoRny",
        "colab_type": "code",
        "colab": {}
      },
      "source": [
        "dynamic_1 = np.where(Y_test_all == 1)[0]\n",
        "dynamic_2 = np.where(Y_test_all == 2)[0]\n",
        "dynamic_3 = np.where(Y_test_all == 3)[0]\n",
        "dynamic = np.concatenate([dynamic_1, dynamic_2, dynamic_3])\n",
        "\n",
        "X_test = X_test_all[dynamic]\n",
        "Y_test = Y_test_all[dynamic]"
      ],
      "execution_count": 0,
      "outputs": []
    },
    {
      "cell_type": "code",
      "metadata": {
        "id": "o2b1yzKMoRn5",
        "colab_type": "code",
        "outputId": "63ef035d-41a6-4ce5-f29f-607abf9fcab9",
        "colab": {
          "base_uri": "https://localhost:8080/",
          "height": 50
        }
      },
      "source": [
        "print (\"test_dynamic shape: \", Y_test.shape)\n",
        "\n",
        "np.unique(Y_test)"
      ],
      "execution_count": 0,
      "outputs": [
        {
          "output_type": "stream",
          "text": [
            "test_dynamic shape:  (1387,)\n"
          ],
          "name": "stdout"
        },
        {
          "output_type": "execute_result",
          "data": {
            "text/plain": [
              "array([1, 2, 3])"
            ]
          },
          "metadata": {
            "tags": []
          },
          "execution_count": 290
        }
      ]
    },
    {
      "cell_type": "code",
      "metadata": {
        "id": "E9Y7nDhuoRoB",
        "colab_type": "code",
        "colab": {}
      },
      "source": [
        "# Convert to one hot encoding vector\n",
        "\n",
        "from keras.utils import np_utils\n",
        "\n",
        "Y_train_dynamic_ohe=np.asarray(pd.get_dummies(Y_train))\n",
        "Y_test_dynamic_ohe=np.asarray(pd.get_dummies(Y_test))\n"
      ],
      "execution_count": 0,
      "outputs": []
    },
    {
      "cell_type": "code",
      "metadata": {
        "id": "R6zix9tMoRoI",
        "colab_type": "code",
        "outputId": "766eb785-2bbf-4ee6-c0ee-80b8eaac1a03",
        "colab": {
          "base_uri": "https://localhost:8080/",
          "height": 134
        }
      },
      "source": [
        "Y_train_dynamic_ohe"
      ],
      "execution_count": 0,
      "outputs": [
        {
          "output_type": "execute_result",
          "data": {
            "text/plain": [
              "array([[1, 0, 0],\n",
              "       [1, 0, 0],\n",
              "       [0, 0, 1],\n",
              "       ...,\n",
              "       [0, 0, 1],\n",
              "       [0, 0, 1],\n",
              "       [0, 0, 1]], dtype=uint8)"
            ]
          },
          "metadata": {
            "tags": []
          },
          "execution_count": 292
        }
      ]
    },
    {
      "cell_type": "code",
      "metadata": {
        "id": "qBBabjZZoRoP",
        "colab_type": "code",
        "outputId": "ab913f8b-12ee-4a77-b759-9e281cb519b8",
        "colab": {
          "base_uri": "https://localhost:8080/",
          "height": 134
        }
      },
      "source": [
        "Y_test_dynamic_ohe"
      ],
      "execution_count": 0,
      "outputs": [
        {
          "output_type": "execute_result",
          "data": {
            "text/plain": [
              "array([[1, 0, 0],\n",
              "       [1, 0, 0],\n",
              "       [1, 0, 0],\n",
              "       ...,\n",
              "       [0, 0, 1],\n",
              "       [0, 0, 1],\n",
              "       [0, 0, 1]], dtype=uint8)"
            ]
          },
          "metadata": {
            "tags": []
          },
          "execution_count": 293
        }
      ]
    },
    {
      "cell_type": "markdown",
      "metadata": {
        "id": "SCPFASg1oRoW",
        "colab_type": "text"
      },
      "source": [
        "### Building Model for Dynamic Data"
      ]
    },
    {
      "cell_type": "code",
      "metadata": {
        "id": "_jNVkUHQoRof",
        "colab_type": "code",
        "outputId": "dfa49e77-4962-4ac4-c46d-93b475369488",
        "colab": {
          "base_uri": "https://localhost:8080/",
          "height": 33
        }
      },
      "source": [
        "X_train.shape"
      ],
      "execution_count": 0,
      "outputs": [
        {
          "output_type": "execute_result",
          "data": {
            "text/plain": [
              "(3285, 128, 9)"
            ]
          },
          "metadata": {
            "tags": []
          },
          "execution_count": 294
        }
      ]
    },
    {
      "cell_type": "code",
      "metadata": {
        "id": "J3IcWH7moRom",
        "colab_type": "code",
        "colab": {
          "base_uri": "https://localhost:8080/",
          "height": 569
        },
        "outputId": "eb3f0f99-2443-4556-dc4a-a6d741701d54"
      },
      "source": [
        "model1 = Sequential()\n",
        "\n",
        "model1.add(Conv1D(32, 3, input_shape=(128, 9), activation='relu',kernel_initializer = 'he_normal'))\n",
        "model1.add(MaxPooling1D(2))\n",
        "model1.add(Dropout(0.2))\n",
        "model1.add(BatchNormalization())\n",
        "\n",
        "\n",
        "model1.add(Conv1D(64, 3, activation='relu',kernel_initializer = 'he_normal'))\n",
        "model1.add(MaxPooling1D(2))\n",
        "model1.add(BatchNormalization())\n",
        "#model1.add(Dropout(0.2))\n",
        "\n",
        "model1.add(Conv1D(80, 3,  activation='relu',kernel_initializer = 'he_normal'))\n",
        "model1.add(MaxPooling1D(2))\n",
        "model1.add(Dropout(0.2))\n",
        "model1.add(BatchNormalization())\n",
        "\n",
        "model1.add(Flatten())\n",
        "\n",
        "model1.add(Dense(3, activation='softmax'))\n",
        "\n",
        "\n",
        "model1.compile(loss='categorical_crossentropy', metrics=['accuracy'], optimizer = 'adam')\n",
        "\n",
        "model1.summary()"
      ],
      "execution_count": 73,
      "outputs": [
        {
          "output_type": "stream",
          "text": [
            "_________________________________________________________________\n",
            "Layer (type)                 Output Shape              Param #   \n",
            "=================================================================\n",
            "conv1d_29 (Conv1D)           (None, 126, 32)           896       \n",
            "_________________________________________________________________\n",
            "max_pooling1d_26 (MaxPooling (None, 63, 32)            0         \n",
            "_________________________________________________________________\n",
            "dropout_44 (Dropout)         (None, 63, 32)            0         \n",
            "_________________________________________________________________\n",
            "batch_normalization_25 (Batc (None, 63, 32)            128       \n",
            "_________________________________________________________________\n",
            "conv1d_30 (Conv1D)           (None, 61, 64)            6208      \n",
            "_________________________________________________________________\n",
            "max_pooling1d_27 (MaxPooling (None, 30, 64)            0         \n",
            "_________________________________________________________________\n",
            "batch_normalization_26 (Batc (None, 30, 64)            256       \n",
            "_________________________________________________________________\n",
            "conv1d_31 (Conv1D)           (None, 28, 80)            15440     \n",
            "_________________________________________________________________\n",
            "max_pooling1d_28 (MaxPooling (None, 14, 80)            0         \n",
            "_________________________________________________________________\n",
            "dropout_45 (Dropout)         (None, 14, 80)            0         \n",
            "_________________________________________________________________\n",
            "batch_normalization_27 (Batc (None, 14, 80)            320       \n",
            "_________________________________________________________________\n",
            "flatten_13 (Flatten)         (None, 1120)              0         \n",
            "_________________________________________________________________\n",
            "dense_14 (Dense)             (None, 3)                 3363      \n",
            "=================================================================\n",
            "Total params: 26,611\n",
            "Trainable params: 26,259\n",
            "Non-trainable params: 352\n",
            "_________________________________________________________________\n"
          ],
          "name": "stdout"
        }
      ]
    },
    {
      "cell_type": "code",
      "metadata": {
        "id": "SgcmLqnyoRov",
        "colab_type": "code",
        "outputId": "d9e17310-b794-4e38-e01e-a2ddf5f74a3d",
        "colab": {
          "base_uri": "https://localhost:8080/",
          "height": 1000
        }
      },
      "source": [
        "model1.fit(X_train, Y_train_dynamic_ohe,batch_size=32, epochs=50, verbose=2, validation_data=(X_test, Y_test_dynamic_ohe))\n"
      ],
      "execution_count": 74,
      "outputs": [
        {
          "output_type": "stream",
          "text": [
            "Train on 3285 samples, validate on 1387 samples\n",
            "Epoch 1/50\n",
            " - 7s - loss: 0.7209 - acc: 0.7081 - val_loss: 0.5022 - val_acc: 0.8198\n",
            "Epoch 2/50\n",
            " - 1s - loss: 0.1686 - acc: 0.9385 - val_loss: 0.3290 - val_acc: 0.8666\n",
            "Epoch 3/50\n",
            " - 1s - loss: 0.0781 - acc: 0.9723 - val_loss: 0.3665 - val_acc: 0.8609\n",
            "Epoch 4/50\n",
            " - 1s - loss: 0.0442 - acc: 0.9896 - val_loss: 0.4038 - val_acc: 0.8335\n",
            "Epoch 5/50\n",
            " - 1s - loss: 0.0312 - acc: 0.9903 - val_loss: 0.3472 - val_acc: 0.8645\n",
            "Epoch 6/50\n",
            " - 1s - loss: 0.0270 - acc: 0.9909 - val_loss: 0.2836 - val_acc: 0.8904\n",
            "Epoch 7/50\n",
            " - 1s - loss: 0.0204 - acc: 0.9927 - val_loss: 0.1611 - val_acc: 0.9373\n",
            "Epoch 8/50\n",
            " - 1s - loss: 0.0176 - acc: 0.9954 - val_loss: 0.1315 - val_acc: 0.9459\n",
            "Epoch 9/50\n",
            " - 1s - loss: 0.0174 - acc: 0.9936 - val_loss: 0.1859 - val_acc: 0.9214\n",
            "Epoch 10/50\n",
            " - 1s - loss: 0.0080 - acc: 0.9976 - val_loss: 0.1842 - val_acc: 0.9301\n",
            "Epoch 11/50\n",
            " - 1s - loss: 0.0053 - acc: 0.9985 - val_loss: 0.0990 - val_acc: 0.9582\n",
            "Epoch 12/50\n",
            " - 1s - loss: 0.0106 - acc: 0.9973 - val_loss: 0.1755 - val_acc: 0.9423\n",
            "Epoch 13/50\n",
            " - 1s - loss: 0.0096 - acc: 0.9973 - val_loss: 0.0507 - val_acc: 0.9813\n",
            "Epoch 14/50\n",
            " - 1s - loss: 0.0081 - acc: 0.9979 - val_loss: 0.0486 - val_acc: 0.9798\n",
            "Epoch 15/50\n",
            " - 1s - loss: 0.0049 - acc: 0.9985 - val_loss: 0.0728 - val_acc: 0.9719\n",
            "Epoch 16/50\n",
            " - 1s - loss: 0.0036 - acc: 0.9988 - val_loss: 0.0589 - val_acc: 0.9733\n",
            "Epoch 17/50\n",
            " - 1s - loss: 0.0047 - acc: 0.9985 - val_loss: 0.0413 - val_acc: 0.9805\n",
            "Epoch 18/50\n",
            " - 1s - loss: 0.0059 - acc: 0.9985 - val_loss: 0.0826 - val_acc: 0.9683\n",
            "Epoch 19/50\n",
            " - 1s - loss: 0.0020 - acc: 0.9997 - val_loss: 0.0554 - val_acc: 0.9827\n",
            "Epoch 20/50\n",
            " - 1s - loss: 0.0029 - acc: 0.9991 - val_loss: 0.0564 - val_acc: 0.9733\n",
            "Epoch 21/50\n",
            " - 1s - loss: 0.0039 - acc: 0.9994 - val_loss: 0.0644 - val_acc: 0.9719\n",
            "Epoch 22/50\n",
            " - 1s - loss: 0.0019 - acc: 0.9991 - val_loss: 0.0462 - val_acc: 0.9784\n",
            "Epoch 23/50\n",
            " - 1s - loss: 0.0011 - acc: 1.0000 - val_loss: 0.0257 - val_acc: 0.9899\n",
            "Epoch 24/50\n",
            " - 1s - loss: 0.0025 - acc: 0.9988 - val_loss: 0.0312 - val_acc: 0.9856\n",
            "Epoch 25/50\n",
            " - 1s - loss: 0.0040 - acc: 0.9985 - val_loss: 0.0258 - val_acc: 0.9921\n",
            "Epoch 26/50\n",
            " - 1s - loss: 0.0022 - acc: 0.9994 - val_loss: 0.0639 - val_acc: 0.9697\n",
            "Epoch 27/50\n",
            " - 1s - loss: 0.0049 - acc: 0.9982 - val_loss: 0.0587 - val_acc: 0.9784\n",
            "Epoch 28/50\n",
            " - 1s - loss: 0.0013 - acc: 1.0000 - val_loss: 0.0754 - val_acc: 0.9690\n",
            "Epoch 29/50\n",
            " - 1s - loss: 8.9887e-04 - acc: 0.9997 - val_loss: 0.0262 - val_acc: 0.9913\n",
            "Epoch 30/50\n",
            " - 1s - loss: 5.7741e-04 - acc: 1.0000 - val_loss: 0.0275 - val_acc: 0.9892\n",
            "Epoch 31/50\n",
            " - 1s - loss: 0.0034 - acc: 0.9988 - val_loss: 0.0659 - val_acc: 0.9740\n",
            "Epoch 32/50\n",
            " - 1s - loss: 0.0036 - acc: 0.9988 - val_loss: 0.0218 - val_acc: 0.9942\n",
            "Epoch 33/50\n",
            " - 1s - loss: 0.0030 - acc: 0.9988 - val_loss: 0.0270 - val_acc: 0.9885\n",
            "Epoch 34/50\n",
            " - 1s - loss: 0.0013 - acc: 0.9997 - val_loss: 0.0251 - val_acc: 0.9921\n",
            "Epoch 35/50\n",
            " - 1s - loss: 0.0047 - acc: 0.9985 - val_loss: 0.0163 - val_acc: 0.9928\n",
            "Epoch 36/50\n",
            " - 1s - loss: 0.0060 - acc: 0.9982 - val_loss: 0.0244 - val_acc: 0.9906\n",
            "Epoch 37/50\n",
            " - 1s - loss: 5.4143e-04 - acc: 1.0000 - val_loss: 0.0192 - val_acc: 0.9928\n",
            "Epoch 38/50\n",
            " - 1s - loss: 8.1451e-04 - acc: 1.0000 - val_loss: 0.0412 - val_acc: 0.9856\n",
            "Epoch 39/50\n",
            " - 1s - loss: 7.8809e-04 - acc: 0.9997 - val_loss: 0.0683 - val_acc: 0.9791\n",
            "Epoch 40/50\n",
            " - 1s - loss: 0.0052 - acc: 0.9982 - val_loss: 0.0650 - val_acc: 0.9769\n",
            "Epoch 41/50\n",
            " - 1s - loss: 0.0117 - acc: 0.9960 - val_loss: 0.0366 - val_acc: 0.9870\n",
            "Epoch 42/50\n",
            " - 1s - loss: 0.0036 - acc: 0.9991 - val_loss: 0.0533 - val_acc: 0.9755\n",
            "Epoch 43/50\n",
            " - 1s - loss: 0.0039 - acc: 0.9988 - val_loss: 0.0373 - val_acc: 0.9841\n",
            "Epoch 44/50\n",
            " - 1s - loss: 4.8511e-04 - acc: 1.0000 - val_loss: 0.0400 - val_acc: 0.9863\n",
            "Epoch 45/50\n",
            " - 1s - loss: 5.8625e-04 - acc: 1.0000 - val_loss: 0.0313 - val_acc: 0.9856\n",
            "Epoch 46/50\n",
            " - 1s - loss: 0.0023 - acc: 0.9994 - val_loss: 0.0499 - val_acc: 0.9827\n",
            "Epoch 47/50\n",
            " - 2s - loss: 0.0012 - acc: 0.9997 - val_loss: 0.0788 - val_acc: 0.9712\n",
            "Epoch 48/50\n",
            " - 2s - loss: 0.0024 - acc: 0.9994 - val_loss: 0.0410 - val_acc: 0.9856\n",
            "Epoch 49/50\n",
            " - 2s - loss: 2.2058e-04 - acc: 1.0000 - val_loss: 0.0484 - val_acc: 0.9834\n",
            "Epoch 50/50\n",
            " - 1s - loss: 2.3963e-04 - acc: 1.0000 - val_loss: 0.0437 - val_acc: 0.9805\n"
          ],
          "name": "stdout"
        },
        {
          "output_type": "execute_result",
          "data": {
            "text/plain": [
              "<keras.callbacks.History at 0x7f8eb06c81d0>"
            ]
          },
          "metadata": {
            "tags": []
          },
          "execution_count": 74
        }
      ]
    },
    {
      "cell_type": "code",
      "metadata": {
        "id": "_Y7y7FjLoRo4",
        "colab_type": "code",
        "outputId": "22ffa886-4f10-44f5-bd65-c73d6cbb1d1b",
        "colab": {
          "base_uri": "https://localhost:8080/",
          "height": 100
        }
      },
      "source": [
        "# Confusion Matrix\n",
        "print(confusion_matrix(Y_test_dynamic_ohe, model1.predict(X_test)))"
      ],
      "execution_count": 75,
      "outputs": [
        {
          "output_type": "stream",
          "text": [
            "Pred                WALKING  WALKING_DOWNSTAIRS  WALKING_UPSTAIRS\n",
            "True                                                             \n",
            "WALKING                 482                  10                 4\n",
            "WALKING_DOWNSTAIRS        0                 409                11\n",
            "WALKING_UPSTAIRS          0                   2               469\n"
          ],
          "name": "stdout"
        }
      ]
    },
    {
      "cell_type": "code",
      "metadata": {
        "id": "FS0qsvNvoRo_",
        "colab_type": "code",
        "outputId": "7315cce3-a4a0-4a95-ff46-7fe99f90cad9",
        "colab": {
          "base_uri": "https://localhost:8080/",
          "height": 33
        }
      },
      "source": [
        "score1 = model1.evaluate(X_test, Y_test_dynamic_ohe)"
      ],
      "execution_count": 76,
      "outputs": [
        {
          "output_type": "stream",
          "text": [
            "1387/1387 [==============================] - 0s 152us/step\n"
          ],
          "name": "stdout"
        }
      ]
    },
    {
      "cell_type": "code",
      "metadata": {
        "id": "NR62jJCqyXJc",
        "colab_type": "code",
        "outputId": "4dded4b2-0b2f-4e9c-fd9e-6218500db8c8",
        "colab": {
          "base_uri": "https://localhost:8080/",
          "height": 33
        }
      },
      "source": [
        "score1"
      ],
      "execution_count": 77,
      "outputs": [
        {
          "output_type": "execute_result",
          "data": {
            "text/plain": [
              "[0.043732418487859935, 0.9805335255948089]"
            ]
          },
          "metadata": {
            "tags": []
          },
          "execution_count": 77
        }
      ]
    },
    {
      "cell_type": "markdown",
      "metadata": {
        "id": "tbtt-lDj07bD",
        "colab_type": "text"
      },
      "source": [
        "### Separating Data- Static (SITTING, STANDING,  LAYING)"
      ]
    },
    {
      "cell_type": "code",
      "metadata": {
        "id": "931n842c06tC",
        "colab_type": "code",
        "colab": {}
      },
      "source": [
        "import random\n",
        "\n",
        "# Select static HAR train data\n",
        "\n",
        "static_1 = np.where(Y_train_all == 4)[0]\n",
        "static_2 = np.where(Y_train_all == 5)[0]\n",
        "static_3 = np.where(Y_train_all == 6)[0]\n",
        "static = np.concatenate([static_1, static_2, static_3])\n",
        "static_list = static.tolist()\n",
        "\n",
        "# Shuffle static data index\n",
        "r = random.random()\n",
        "random.shuffle(static_list, lambda: r)\n",
        "\n",
        "static = np.array(static_list)\n",
        "\n",
        "X_train = X_train_all[static]\n",
        "Y_train = Y_train_all[static]"
      ],
      "execution_count": 0,
      "outputs": []
    },
    {
      "cell_type": "code",
      "metadata": {
        "id": "LkyGQS2S1hKz",
        "colab_type": "code",
        "outputId": "239d66cb-f79c-48d0-a21c-b9b10c5f6203",
        "colab": {
          "base_uri": "https://localhost:8080/",
          "height": 50
        }
      },
      "source": [
        "print (\"train_static shape: \", Y_train.shape)\n",
        "\n",
        "np.unique(Y_train)"
      ],
      "execution_count": 21,
      "outputs": [
        {
          "output_type": "stream",
          "text": [
            "train_static shape:  (4067,)\n"
          ],
          "name": "stdout"
        },
        {
          "output_type": "execute_result",
          "data": {
            "text/plain": [
              "array([4, 5, 6])"
            ]
          },
          "metadata": {
            "tags": []
          },
          "execution_count": 21
        }
      ]
    },
    {
      "cell_type": "code",
      "metadata": {
        "id": "IfNLot5Y2Asd",
        "colab_type": "code",
        "outputId": "cb214666-4571-4e67-f415-b8b1c83ee1c9",
        "colab": {
          "base_uri": "https://localhost:8080/",
          "height": 33
        }
      },
      "source": [
        "X_train.shape"
      ],
      "execution_count": 0,
      "outputs": [
        {
          "output_type": "execute_result",
          "data": {
            "text/plain": [
              "(4067, 128, 9)"
            ]
          },
          "metadata": {
            "tags": []
          },
          "execution_count": 143
        }
      ]
    },
    {
      "cell_type": "code",
      "metadata": {
        "id": "uv9zY37k2A3I",
        "colab_type": "code",
        "colab": {}
      },
      "source": [
        "# Select static HAR test data\n",
        "\n",
        "\n",
        "static_1 = np.where(Y_test_all == 4)[0]\n",
        "static_2 = np.where(Y_test_all == 5)[0]\n",
        "static_3 = np.where(Y_test_all == 6)[0]\n",
        "static = np.concatenate([static_1, static_2, static_3])\n",
        "\n",
        "X_test = X_test_all[static]\n",
        "Y_test = Y_test_all[static]"
      ],
      "execution_count": 0,
      "outputs": []
    },
    {
      "cell_type": "code",
      "metadata": {
        "id": "myZ8u8Ft2A0U",
        "colab_type": "code",
        "outputId": "6a483035-dc36-4985-9d03-8da40654bd9f",
        "colab": {
          "base_uri": "https://localhost:8080/",
          "height": 50
        }
      },
      "source": [
        "print (\"static shape: \", Y_test.shape)\n",
        "\n",
        "np.unique(Y_test)"
      ],
      "execution_count": 23,
      "outputs": [
        {
          "output_type": "stream",
          "text": [
            "static shape:  (1560,)\n"
          ],
          "name": "stdout"
        },
        {
          "output_type": "execute_result",
          "data": {
            "text/plain": [
              "array([4, 5, 6])"
            ]
          },
          "metadata": {
            "tags": []
          },
          "execution_count": 23
        }
      ]
    },
    {
      "cell_type": "code",
      "metadata": {
        "id": "0LbdjmcQ2AxN",
        "colab_type": "code",
        "colab": {}
      },
      "source": [
        "# Convert to one hot encoding vector\n",
        "\n",
        "from keras.utils import np_utils\n",
        "\n",
        "Y_train_static_ohe=np.asarray(pd.get_dummies(Y_train))\n",
        "Y_test_static_ohe=np.asarray(pd.get_dummies(Y_test))\n"
      ],
      "execution_count": 0,
      "outputs": []
    },
    {
      "cell_type": "code",
      "metadata": {
        "id": "yzo8kIGq2tf7",
        "colab_type": "code",
        "outputId": "1464636a-6248-4aca-e461-b5615b3c6f5d",
        "colab": {
          "base_uri": "https://localhost:8080/",
          "height": 134
        }
      },
      "source": [
        "Y_train_static_ohe"
      ],
      "execution_count": 25,
      "outputs": [
        {
          "output_type": "execute_result",
          "data": {
            "text/plain": [
              "array([[1, 0, 0],\n",
              "       [0, 1, 0],\n",
              "       [1, 0, 0],\n",
              "       ...,\n",
              "       [0, 1, 0],\n",
              "       [0, 0, 1],\n",
              "       [0, 1, 0]], dtype=uint8)"
            ]
          },
          "metadata": {
            "tags": []
          },
          "execution_count": 25
        }
      ]
    },
    {
      "cell_type": "code",
      "metadata": {
        "id": "DzMtgTfj2top",
        "colab_type": "code",
        "outputId": "588ee3c2-1cd3-4c2a-83b7-2f763816c66b",
        "colab": {
          "base_uri": "https://localhost:8080/",
          "height": 134
        }
      },
      "source": [
        "Y_test_static_ohe"
      ],
      "execution_count": 26,
      "outputs": [
        {
          "output_type": "execute_result",
          "data": {
            "text/plain": [
              "array([[1, 0, 0],\n",
              "       [1, 0, 0],\n",
              "       [1, 0, 0],\n",
              "       ...,\n",
              "       [0, 0, 1],\n",
              "       [0, 0, 1],\n",
              "       [0, 0, 1]], dtype=uint8)"
            ]
          },
          "metadata": {
            "tags": []
          },
          "execution_count": 26
        }
      ]
    },
    {
      "cell_type": "markdown",
      "metadata": {
        "id": "WlTRmJ1n28SE",
        "colab_type": "text"
      },
      "source": [
        "### Building Model for Static Data"
      ]
    },
    {
      "cell_type": "code",
      "metadata": {
        "id": "LCphJ69g2tv1",
        "colab_type": "code",
        "outputId": "63a7944f-6dec-44d2-edca-9e55b3f8224b",
        "colab": {
          "base_uri": "https://localhost:8080/",
          "height": 33
        }
      },
      "source": [
        "X_train.shape"
      ],
      "execution_count": 28,
      "outputs": [
        {
          "output_type": "execute_result",
          "data": {
            "text/plain": [
              "(4067, 128, 9)"
            ]
          },
          "metadata": {
            "tags": []
          },
          "execution_count": 28
        }
      ]
    },
    {
      "cell_type": "code",
      "metadata": {
        "id": "B7SUB3y5nJLj",
        "colab_type": "code",
        "colab": {
          "base_uri": "https://localhost:8080/",
          "height": 602
        },
        "outputId": "244b9fbc-7e98-4cbb-f09e-e7abfa716cd0"
      },
      "source": [
        "model2 = Sequential()\n",
        "\n",
        "\n",
        "model2.add(Conv1D(50, 3, input_shape=(128, 9), activation='tanh',kernel_initializer = 'he_normal'))\n",
        "model2.add(MaxPooling1D(2))\n",
        "model2.add(BatchNormalization())\n",
        "model2.add(Dropout(0.2))\n",
        "\n",
        "\n",
        "model2.add(Conv1D(100, 3, activation='tanh',kernel_initializer = 'he_normal'))\n",
        "model2.add(MaxPooling1D(2))\n",
        "model2.add(BatchNormalization())\n",
        "model2.add(Dropout(0.2))\n",
        "\n",
        "\n",
        "\n",
        "model2.add(LSTM(32,activation = 'tanh',kernel_initializer = 'he_normal',return_sequences = True))\n",
        "model2.add(Dropout(0.5))\n",
        "\n",
        "\n",
        "model2.add(LSTM(80,activation = 'tanh',kernel_initializer = 'he_normal',return_sequences = True))\n",
        "model2.add(Dropout(0.5))\n",
        "\n",
        "\n",
        "\n",
        "model2.add(Flatten())\n",
        "\n",
        "\n",
        "model2.add(Dense(3, activation='softmax'))\n",
        "\n",
        "\n",
        "\n",
        "model2.compile(loss='categorical_crossentropy', metrics=['accuracy'], optimizer = 'adam')\n",
        "\n",
        "model2.summary()\n"
      ],
      "execution_count": 56,
      "outputs": [
        {
          "output_type": "stream",
          "text": [
            "_________________________________________________________________\n",
            "Layer (type)                 Output Shape              Param #   \n",
            "=================================================================\n",
            "conv1d_20 (Conv1D)           (None, 126, 50)           1400      \n",
            "_________________________________________________________________\n",
            "max_pooling1d_17 (MaxPooling (None, 63, 50)            0         \n",
            "_________________________________________________________________\n",
            "batch_normalization_17 (Batc (None, 63, 50)            200       \n",
            "_________________________________________________________________\n",
            "dropout_34 (Dropout)         (None, 63, 50)            0         \n",
            "_________________________________________________________________\n",
            "conv1d_21 (Conv1D)           (None, 61, 100)           15100     \n",
            "_________________________________________________________________\n",
            "max_pooling1d_18 (MaxPooling (None, 30, 100)           0         \n",
            "_________________________________________________________________\n",
            "batch_normalization_18 (Batc (None, 30, 100)           400       \n",
            "_________________________________________________________________\n",
            "dropout_35 (Dropout)         (None, 30, 100)           0         \n",
            "_________________________________________________________________\n",
            "lstm_17 (LSTM)               (None, 30, 32)            17024     \n",
            "_________________________________________________________________\n",
            "dropout_36 (Dropout)         (None, 30, 32)            0         \n",
            "_________________________________________________________________\n",
            "lstm_18 (LSTM)               (None, 30, 80)            36160     \n",
            "_________________________________________________________________\n",
            "dropout_37 (Dropout)         (None, 30, 80)            0         \n",
            "_________________________________________________________________\n",
            "flatten_10 (Flatten)         (None, 2400)              0         \n",
            "_________________________________________________________________\n",
            "dense_11 (Dense)             (None, 3)                 7203      \n",
            "=================================================================\n",
            "Total params: 77,487\n",
            "Trainable params: 77,187\n",
            "Non-trainable params: 300\n",
            "_________________________________________________________________\n"
          ],
          "name": "stdout"
        }
      ]
    },
    {
      "cell_type": "code",
      "metadata": {
        "id": "1IPyUzMJnJW6",
        "colab_type": "code",
        "colab": {
          "base_uri": "https://localhost:8080/",
          "height": 1000
        },
        "outputId": "c393a52e-dd0e-42d3-d087-092655bb037c"
      },
      "source": [
        "model2.fit(X_train, Y_train_static_ohe,batch_size=32, epochs=161, verbose=2, validation_data=(X_test, Y_test_static_ohe))\n"
      ],
      "execution_count": 57,
      "outputs": [
        {
          "output_type": "stream",
          "text": [
            "Train on 4067 samples, validate on 1560 samples\n",
            "Epoch 1/161\n",
            " - 25s - loss: 0.2918 - acc: 0.8812 - val_loss: 0.4686 - val_acc: 0.8481\n",
            "Epoch 2/161\n",
            " - 19s - loss: 0.2519 - acc: 0.8992 - val_loss: 0.2824 - val_acc: 0.9038\n",
            "Epoch 3/161\n",
            " - 19s - loss: 0.2474 - acc: 0.8962 - val_loss: 0.3019 - val_acc: 0.8808\n",
            "Epoch 4/161\n",
            " - 19s - loss: 0.2167 - acc: 0.9134 - val_loss: 0.2632 - val_acc: 0.8776\n",
            "Epoch 5/161\n",
            " - 19s - loss: 0.2258 - acc: 0.9031 - val_loss: 0.3321 - val_acc: 0.8795\n",
            "Epoch 6/161\n",
            " - 19s - loss: 0.2202 - acc: 0.9073 - val_loss: 0.2725 - val_acc: 0.9064\n",
            "Epoch 7/161\n",
            " - 19s - loss: 0.2049 - acc: 0.9120 - val_loss: 0.3297 - val_acc: 0.8814\n",
            "Epoch 8/161\n",
            " - 19s - loss: 0.2048 - acc: 0.9127 - val_loss: 0.3491 - val_acc: 0.8583\n",
            "Epoch 9/161\n",
            " - 19s - loss: 0.2026 - acc: 0.9127 - val_loss: 0.2849 - val_acc: 0.9103\n",
            "Epoch 10/161\n",
            " - 19s - loss: 0.1838 - acc: 0.9270 - val_loss: 0.2996 - val_acc: 0.8987\n",
            "Epoch 11/161\n",
            " - 19s - loss: 0.1873 - acc: 0.9208 - val_loss: 0.3197 - val_acc: 0.8904\n",
            "Epoch 12/161\n",
            " - 19s - loss: 0.1898 - acc: 0.9152 - val_loss: 0.2557 - val_acc: 0.9218\n",
            "Epoch 13/161\n",
            " - 19s - loss: 0.1711 - acc: 0.9260 - val_loss: 0.4025 - val_acc: 0.8776\n",
            "Epoch 14/161\n",
            " - 19s - loss: 0.1801 - acc: 0.9289 - val_loss: 0.3245 - val_acc: 0.9051\n",
            "Epoch 15/161\n",
            " - 20s - loss: 0.1894 - acc: 0.9233 - val_loss: 0.2699 - val_acc: 0.9090\n",
            "Epoch 16/161\n",
            " - 19s - loss: 0.1668 - acc: 0.9336 - val_loss: 0.2796 - val_acc: 0.9071\n",
            "Epoch 17/161\n",
            " - 19s - loss: 0.1568 - acc: 0.9346 - val_loss: 0.2908 - val_acc: 0.9186\n",
            "Epoch 18/161\n",
            " - 19s - loss: 0.1582 - acc: 0.9375 - val_loss: 0.3162 - val_acc: 0.9378\n",
            "Epoch 19/161\n",
            " - 19s - loss: 0.1818 - acc: 0.9255 - val_loss: 0.2677 - val_acc: 0.9212\n",
            "Epoch 20/161\n",
            " - 19s - loss: 0.1457 - acc: 0.9412 - val_loss: 0.2546 - val_acc: 0.9160\n",
            "Epoch 21/161\n",
            " - 20s - loss: 0.1397 - acc: 0.9412 - val_loss: 0.2841 - val_acc: 0.9391\n",
            "Epoch 22/161\n",
            " - 19s - loss: 0.1506 - acc: 0.9403 - val_loss: 0.2555 - val_acc: 0.9359\n",
            "Epoch 23/161\n",
            " - 19s - loss: 0.1357 - acc: 0.9444 - val_loss: 0.2255 - val_acc: 0.9429\n",
            "Epoch 24/161\n",
            " - 19s - loss: 0.1380 - acc: 0.9420 - val_loss: 0.2830 - val_acc: 0.9179\n",
            "Epoch 25/161\n",
            " - 19s - loss: 0.1425 - acc: 0.9412 - val_loss: 0.3344 - val_acc: 0.9231\n",
            "Epoch 26/161\n",
            " - 19s - loss: 0.1344 - acc: 0.9439 - val_loss: 0.2630 - val_acc: 0.9288\n",
            "Epoch 27/161\n",
            " - 19s - loss: 0.1405 - acc: 0.9430 - val_loss: 0.1827 - val_acc: 0.9378\n",
            "Epoch 28/161\n",
            " - 19s - loss: 0.1307 - acc: 0.9496 - val_loss: 0.3310 - val_acc: 0.9263\n",
            "Epoch 29/161\n",
            " - 19s - loss: 0.1589 - acc: 0.9388 - val_loss: 0.2482 - val_acc: 0.9468\n",
            "Epoch 30/161\n",
            " - 19s - loss: 0.1147 - acc: 0.9511 - val_loss: 0.1904 - val_acc: 0.9404\n",
            "Epoch 31/161\n",
            " - 20s - loss: 0.1273 - acc: 0.9469 - val_loss: 0.2261 - val_acc: 0.9417\n",
            "Epoch 32/161\n",
            " - 19s - loss: 0.1316 - acc: 0.9506 - val_loss: 0.1759 - val_acc: 0.9481\n",
            "Epoch 33/161\n",
            " - 19s - loss: 0.1150 - acc: 0.9540 - val_loss: 0.1757 - val_acc: 0.9474\n",
            "Epoch 34/161\n",
            " - 19s - loss: 0.1191 - acc: 0.9523 - val_loss: 0.2605 - val_acc: 0.9295\n",
            "Epoch 35/161\n",
            " - 19s - loss: 0.1139 - acc: 0.9565 - val_loss: 0.2949 - val_acc: 0.9404\n",
            "Epoch 36/161\n",
            " - 19s - loss: 0.1093 - acc: 0.9555 - val_loss: 0.2327 - val_acc: 0.9449\n",
            "Epoch 37/161\n",
            " - 19s - loss: 0.1230 - acc: 0.9511 - val_loss: 0.3803 - val_acc: 0.9128\n",
            "Epoch 38/161\n",
            " - 19s - loss: 0.1140 - acc: 0.9523 - val_loss: 0.2557 - val_acc: 0.9513\n",
            "Epoch 39/161\n",
            " - 19s - loss: 0.1321 - acc: 0.9466 - val_loss: 0.1731 - val_acc: 0.9442\n",
            "Epoch 40/161\n",
            " - 19s - loss: 0.1118 - acc: 0.9530 - val_loss: 0.2164 - val_acc: 0.9474\n",
            "Epoch 41/161\n",
            " - 19s - loss: 0.0985 - acc: 0.9597 - val_loss: 0.1980 - val_acc: 0.9462\n",
            "Epoch 42/161\n",
            " - 19s - loss: 0.0997 - acc: 0.9604 - val_loss: 0.2090 - val_acc: 0.9346\n",
            "Epoch 43/161\n",
            " - 19s - loss: 0.1021 - acc: 0.9555 - val_loss: 0.1699 - val_acc: 0.9455\n",
            "Epoch 44/161\n",
            " - 19s - loss: 0.1118 - acc: 0.9530 - val_loss: 0.1719 - val_acc: 0.9449\n",
            "Epoch 45/161\n",
            " - 19s - loss: 0.1061 - acc: 0.9597 - val_loss: 0.2068 - val_acc: 0.9340\n",
            "Epoch 46/161\n",
            " - 19s - loss: 0.0989 - acc: 0.9584 - val_loss: 0.2184 - val_acc: 0.9404\n",
            "Epoch 47/161\n",
            " - 20s - loss: 0.0933 - acc: 0.9629 - val_loss: 0.1607 - val_acc: 0.9462\n",
            "Epoch 48/161\n",
            " - 19s - loss: 0.1025 - acc: 0.9612 - val_loss: 0.2047 - val_acc: 0.9494\n",
            "Epoch 49/161\n",
            " - 19s - loss: 0.1002 - acc: 0.9597 - val_loss: 0.1970 - val_acc: 0.9571\n",
            "Epoch 50/161\n",
            " - 19s - loss: 0.1271 - acc: 0.9528 - val_loss: 0.2508 - val_acc: 0.9269\n",
            "Epoch 51/161\n",
            " - 19s - loss: 0.1011 - acc: 0.9584 - val_loss: 0.1885 - val_acc: 0.9558\n",
            "Epoch 52/161\n",
            " - 19s - loss: 0.0899 - acc: 0.9631 - val_loss: 0.1836 - val_acc: 0.9551\n",
            "Epoch 53/161\n",
            " - 19s - loss: 0.0979 - acc: 0.9607 - val_loss: 0.2350 - val_acc: 0.9333\n",
            "Epoch 54/161\n",
            " - 19s - loss: 0.1040 - acc: 0.9604 - val_loss: 0.2179 - val_acc: 0.9429\n",
            "Epoch 55/161\n",
            " - 19s - loss: 0.0981 - acc: 0.9614 - val_loss: 0.1814 - val_acc: 0.9494\n",
            "Epoch 56/161\n",
            " - 19s - loss: 0.0978 - acc: 0.9663 - val_loss: 0.2972 - val_acc: 0.9288\n",
            "Epoch 57/161\n",
            " - 19s - loss: 0.0820 - acc: 0.9695 - val_loss: 0.1648 - val_acc: 0.9532\n",
            "Epoch 58/161\n",
            " - 19s - loss: 0.0861 - acc: 0.9663 - val_loss: 0.1723 - val_acc: 0.9538\n",
            "Epoch 59/161\n",
            " - 19s - loss: 0.0868 - acc: 0.9646 - val_loss: 0.2464 - val_acc: 0.9449\n",
            "Epoch 60/161\n",
            " - 19s - loss: 0.0827 - acc: 0.9683 - val_loss: 0.2021 - val_acc: 0.9506\n",
            "Epoch 61/161\n",
            " - 19s - loss: 0.0807 - acc: 0.9693 - val_loss: 0.1783 - val_acc: 0.9577\n",
            "Epoch 62/161\n",
            " - 19s - loss: 0.0952 - acc: 0.9621 - val_loss: 0.1743 - val_acc: 0.9571\n",
            "Epoch 63/161\n",
            " - 20s - loss: 0.0785 - acc: 0.9693 - val_loss: 0.2125 - val_acc: 0.9506\n",
            "Epoch 64/161\n",
            " - 19s - loss: 0.0865 - acc: 0.9646 - val_loss: 0.1939 - val_acc: 0.9519\n",
            "Epoch 65/161\n",
            " - 19s - loss: 0.0878 - acc: 0.9678 - val_loss: 0.2195 - val_acc: 0.9410\n",
            "Epoch 66/161\n",
            " - 19s - loss: 0.0914 - acc: 0.9641 - val_loss: 0.1587 - val_acc: 0.9519\n",
            "Epoch 67/161\n",
            " - 19s - loss: 0.0835 - acc: 0.9675 - val_loss: 0.1493 - val_acc: 0.9519\n",
            "Epoch 68/161\n",
            " - 19s - loss: 0.0900 - acc: 0.9673 - val_loss: 0.1258 - val_acc: 0.9596\n",
            "Epoch 69/161\n",
            " - 19s - loss: 0.1018 - acc: 0.9641 - val_loss: 0.1529 - val_acc: 0.9609\n",
            "Epoch 70/161\n",
            " - 19s - loss: 0.0808 - acc: 0.9698 - val_loss: 0.1816 - val_acc: 0.9449\n",
            "Epoch 71/161\n",
            " - 19s - loss: 0.0801 - acc: 0.9700 - val_loss: 0.1475 - val_acc: 0.9654\n",
            "Epoch 72/161\n",
            " - 19s - loss: 0.0818 - acc: 0.9666 - val_loss: 0.2261 - val_acc: 0.9256\n",
            "Epoch 73/161\n",
            " - 19s - loss: 0.0756 - acc: 0.9680 - val_loss: 0.2487 - val_acc: 0.9340\n",
            "Epoch 74/161\n",
            " - 19s - loss: 0.0610 - acc: 0.9774 - val_loss: 0.1661 - val_acc: 0.9519\n",
            "Epoch 75/161\n",
            " - 19s - loss: 0.0760 - acc: 0.9717 - val_loss: 0.1820 - val_acc: 0.9487\n",
            "Epoch 76/161\n",
            " - 19s - loss: 0.0692 - acc: 0.9759 - val_loss: 0.1802 - val_acc: 0.9436\n",
            "Epoch 77/161\n",
            " - 19s - loss: 0.1039 - acc: 0.9639 - val_loss: 0.1303 - val_acc: 0.9628\n",
            "Epoch 78/161\n",
            " - 19s - loss: 0.0926 - acc: 0.9641 - val_loss: 0.1199 - val_acc: 0.9647\n",
            "Epoch 79/161\n",
            " - 19s - loss: 0.0662 - acc: 0.9727 - val_loss: 0.1270 - val_acc: 0.9596\n",
            "Epoch 80/161\n",
            " - 20s - loss: 0.0696 - acc: 0.9730 - val_loss: 0.2503 - val_acc: 0.9532\n",
            "Epoch 81/161\n",
            " - 19s - loss: 0.0659 - acc: 0.9761 - val_loss: 0.1467 - val_acc: 0.9487\n",
            "Epoch 82/161\n",
            " - 19s - loss: 0.0854 - acc: 0.9634 - val_loss: 0.1381 - val_acc: 0.9641\n",
            "Epoch 83/161\n",
            " - 19s - loss: 0.0688 - acc: 0.9730 - val_loss: 0.1761 - val_acc: 0.9545\n",
            "Epoch 84/161\n",
            " - 19s - loss: 0.0729 - acc: 0.9707 - val_loss: 0.1483 - val_acc: 0.9590\n",
            "Epoch 85/161\n",
            " - 19s - loss: 0.0636 - acc: 0.9717 - val_loss: 0.1507 - val_acc: 0.9609\n",
            "Epoch 86/161\n",
            " - 19s - loss: 0.0682 - acc: 0.9720 - val_loss: 0.2095 - val_acc: 0.9487\n",
            "Epoch 87/161\n",
            " - 19s - loss: 0.0855 - acc: 0.9702 - val_loss: 0.1411 - val_acc: 0.9596\n",
            "Epoch 88/161\n",
            " - 19s - loss: 0.0662 - acc: 0.9742 - val_loss: 0.1515 - val_acc: 0.9590\n",
            "Epoch 89/161\n",
            " - 19s - loss: 0.0679 - acc: 0.9727 - val_loss: 0.1565 - val_acc: 0.9564\n",
            "Epoch 90/161\n",
            " - 19s - loss: 0.0587 - acc: 0.9786 - val_loss: 0.1895 - val_acc: 0.9455\n",
            "Epoch 91/161\n",
            " - 19s - loss: 0.0674 - acc: 0.9761 - val_loss: 0.1950 - val_acc: 0.9513\n",
            "Epoch 92/161\n",
            " - 19s - loss: 0.0672 - acc: 0.9737 - val_loss: 0.1858 - val_acc: 0.9506\n",
            "Epoch 93/161\n",
            " - 19s - loss: 0.0587 - acc: 0.9754 - val_loss: 0.2017 - val_acc: 0.9538\n",
            "Epoch 94/161\n",
            " - 19s - loss: 0.0602 - acc: 0.9757 - val_loss: 0.2155 - val_acc: 0.9474\n",
            "Epoch 95/161\n",
            " - 19s - loss: 0.0508 - acc: 0.9811 - val_loss: 0.1937 - val_acc: 0.9577\n",
            "Epoch 96/161\n",
            " - 20s - loss: 0.0703 - acc: 0.9744 - val_loss: 0.1463 - val_acc: 0.9686\n",
            "Epoch 97/161\n",
            " - 19s - loss: 0.0842 - acc: 0.9754 - val_loss: 0.1867 - val_acc: 0.9500\n",
            "Epoch 98/161\n",
            " - 19s - loss: 0.0606 - acc: 0.9786 - val_loss: 0.1523 - val_acc: 0.9615\n",
            "Epoch 99/161\n",
            " - 19s - loss: 0.0545 - acc: 0.9798 - val_loss: 0.2001 - val_acc: 0.9494\n",
            "Epoch 100/161\n",
            " - 19s - loss: 0.0593 - acc: 0.9771 - val_loss: 0.1391 - val_acc: 0.9571\n",
            "Epoch 101/161\n",
            " - 19s - loss: 0.0630 - acc: 0.9764 - val_loss: 0.1922 - val_acc: 0.9538\n",
            "Epoch 102/161\n",
            " - 19s - loss: 0.0541 - acc: 0.9789 - val_loss: 0.1859 - val_acc: 0.9513\n",
            "Epoch 103/161\n",
            " - 19s - loss: 0.0711 - acc: 0.9690 - val_loss: 0.1673 - val_acc: 0.9596\n",
            "Epoch 104/161\n",
            " - 19s - loss: 0.0621 - acc: 0.9769 - val_loss: 0.1698 - val_acc: 0.9564\n",
            "Epoch 105/161\n",
            " - 19s - loss: 0.0595 - acc: 0.9754 - val_loss: 0.1548 - val_acc: 0.9647\n",
            "Epoch 106/161\n",
            " - 19s - loss: 0.0529 - acc: 0.9786 - val_loss: 0.1500 - val_acc: 0.9615\n",
            "Epoch 107/161\n",
            " - 19s - loss: 0.0609 - acc: 0.9769 - val_loss: 0.2401 - val_acc: 0.9468\n",
            "Epoch 108/161\n",
            " - 19s - loss: 0.0549 - acc: 0.9789 - val_loss: 0.2579 - val_acc: 0.9333\n",
            "Epoch 109/161\n",
            " - 19s - loss: 0.0530 - acc: 0.9808 - val_loss: 0.2031 - val_acc: 0.9596\n",
            "Epoch 110/161\n",
            " - 19s - loss: 0.0448 - acc: 0.9811 - val_loss: 0.2575 - val_acc: 0.9474\n",
            "Epoch 111/161\n",
            " - 19s - loss: 0.0519 - acc: 0.9823 - val_loss: 0.2196 - val_acc: 0.9506\n",
            "Epoch 112/161\n",
            " - 20s - loss: 0.0604 - acc: 0.9764 - val_loss: 0.1850 - val_acc: 0.9506\n",
            "Epoch 113/161\n",
            " - 19s - loss: 0.0472 - acc: 0.9821 - val_loss: 0.1837 - val_acc: 0.9513\n",
            "Epoch 114/161\n",
            " - 19s - loss: 0.0515 - acc: 0.9806 - val_loss: 0.2021 - val_acc: 0.9551\n",
            "Epoch 115/161\n",
            " - 19s - loss: 0.0466 - acc: 0.9821 - val_loss: 0.1786 - val_acc: 0.9558\n",
            "Epoch 116/161\n",
            " - 19s - loss: 0.0560 - acc: 0.9769 - val_loss: 0.2333 - val_acc: 0.9462\n",
            "Epoch 117/161\n",
            " - 19s - loss: 0.0446 - acc: 0.9835 - val_loss: 0.2295 - val_acc: 0.9442\n",
            "Epoch 118/161\n",
            " - 19s - loss: 0.0397 - acc: 0.9857 - val_loss: 0.2145 - val_acc: 0.9583\n",
            "Epoch 119/161\n",
            " - 19s - loss: 0.0577 - acc: 0.9793 - val_loss: 0.1567 - val_acc: 0.9603\n",
            "Epoch 120/161\n",
            " - 19s - loss: 0.0426 - acc: 0.9825 - val_loss: 0.1983 - val_acc: 0.9609\n",
            "Epoch 121/161\n",
            " - 19s - loss: 0.0456 - acc: 0.9828 - val_loss: 0.1661 - val_acc: 0.9628\n",
            "Epoch 122/161\n",
            " - 19s - loss: 0.0482 - acc: 0.9808 - val_loss: 0.1919 - val_acc: 0.9596\n",
            "Epoch 123/161\n",
            " - 19s - loss: 0.0413 - acc: 0.9860 - val_loss: 0.1824 - val_acc: 0.9596\n",
            "Epoch 124/161\n",
            " - 19s - loss: 0.0647 - acc: 0.9752 - val_loss: 0.1767 - val_acc: 0.9590\n",
            "Epoch 125/161\n",
            " - 19s - loss: 0.0527 - acc: 0.9808 - val_loss: 0.1553 - val_acc: 0.9596\n",
            "Epoch 126/161\n",
            " - 19s - loss: 0.0951 - acc: 0.9636 - val_loss: 0.1616 - val_acc: 0.9494\n",
            "Epoch 127/161\n",
            " - 19s - loss: 0.0562 - acc: 0.9757 - val_loss: 0.2190 - val_acc: 0.9474\n",
            "Epoch 128/161\n",
            " - 19s - loss: 0.0499 - acc: 0.9801 - val_loss: 0.1629 - val_acc: 0.9590\n",
            "Epoch 129/161\n",
            " - 20s - loss: 0.0639 - acc: 0.9764 - val_loss: 0.1579 - val_acc: 0.9564\n",
            "Epoch 130/161\n",
            " - 19s - loss: 0.0526 - acc: 0.9803 - val_loss: 0.1569 - val_acc: 0.9622\n",
            "Epoch 131/161\n",
            " - 19s - loss: 0.0586 - acc: 0.9791 - val_loss: 0.1793 - val_acc: 0.9487\n",
            "Epoch 132/161\n",
            " - 19s - loss: 0.0604 - acc: 0.9784 - val_loss: 0.2842 - val_acc: 0.9442\n",
            "Epoch 133/161\n",
            " - 19s - loss: 0.0452 - acc: 0.9816 - val_loss: 0.2120 - val_acc: 0.9583\n",
            "Epoch 134/161\n",
            " - 19s - loss: 0.0429 - acc: 0.9828 - val_loss: 0.1714 - val_acc: 0.9564\n",
            "Epoch 135/161\n",
            " - 19s - loss: 0.0429 - acc: 0.9830 - val_loss: 0.1549 - val_acc: 0.9635\n",
            "Epoch 136/161\n",
            " - 19s - loss: 0.0469 - acc: 0.9828 - val_loss: 0.1573 - val_acc: 0.9603\n",
            "Epoch 137/161\n",
            " - 19s - loss: 0.0369 - acc: 0.9872 - val_loss: 0.2066 - val_acc: 0.9538\n",
            "Epoch 138/161\n",
            " - 19s - loss: 0.0450 - acc: 0.9850 - val_loss: 0.1714 - val_acc: 0.9615\n",
            "Epoch 139/161\n",
            " - 19s - loss: 0.0373 - acc: 0.9845 - val_loss: 0.1593 - val_acc: 0.9558\n",
            "Epoch 140/161\n",
            " - 19s - loss: 0.0446 - acc: 0.9843 - val_loss: 0.1826 - val_acc: 0.9532\n",
            "Epoch 141/161\n",
            " - 19s - loss: 0.0361 - acc: 0.9877 - val_loss: 0.2008 - val_acc: 0.9513\n",
            "Epoch 142/161\n",
            " - 19s - loss: 0.0345 - acc: 0.9877 - val_loss: 0.1613 - val_acc: 0.9667\n",
            "Epoch 143/161\n",
            " - 19s - loss: 0.0649 - acc: 0.9754 - val_loss: 0.1549 - val_acc: 0.9564\n",
            "Epoch 144/161\n",
            " - 19s - loss: 0.0435 - acc: 0.9855 - val_loss: 0.1827 - val_acc: 0.9532\n",
            "Epoch 145/161\n",
            " - 20s - loss: 0.0377 - acc: 0.9862 - val_loss: 0.1650 - val_acc: 0.9590\n",
            "Epoch 146/161\n",
            " - 19s - loss: 0.0423 - acc: 0.9855 - val_loss: 0.2467 - val_acc: 0.9513\n",
            "Epoch 147/161\n",
            " - 19s - loss: 0.0333 - acc: 0.9867 - val_loss: 0.1429 - val_acc: 0.9647\n",
            "Epoch 148/161\n",
            " - 19s - loss: 0.0429 - acc: 0.9852 - val_loss: 0.1820 - val_acc: 0.9615\n",
            "Epoch 149/161\n",
            " - 19s - loss: 0.0368 - acc: 0.9877 - val_loss: 0.2217 - val_acc: 0.9551\n",
            "Epoch 150/161\n",
            " - 19s - loss: 0.0307 - acc: 0.9875 - val_loss: 0.1518 - val_acc: 0.9647\n",
            "Epoch 151/161\n",
            " - 19s - loss: 0.0309 - acc: 0.9880 - val_loss: 0.1703 - val_acc: 0.9622\n",
            "Epoch 152/161\n",
            " - 19s - loss: 0.0316 - acc: 0.9882 - val_loss: 0.1668 - val_acc: 0.9679\n",
            "Epoch 153/161\n",
            " - 19s - loss: 0.0435 - acc: 0.9843 - val_loss: 0.1699 - val_acc: 0.9583\n",
            "Epoch 154/161\n",
            " - 19s - loss: 0.0408 - acc: 0.9840 - val_loss: 0.1901 - val_acc: 0.9506\n",
            "Epoch 155/161\n",
            " - 19s - loss: 0.0463 - acc: 0.9828 - val_loss: 0.1728 - val_acc: 0.9532\n",
            "Epoch 156/161\n",
            " - 19s - loss: 0.0284 - acc: 0.9892 - val_loss: 0.2553 - val_acc: 0.9429\n",
            "Epoch 157/161\n",
            " - 19s - loss: 0.0484 - acc: 0.9833 - val_loss: 0.1721 - val_acc: 0.9551\n",
            "Epoch 158/161\n",
            " - 19s - loss: 0.0342 - acc: 0.9880 - val_loss: 0.1827 - val_acc: 0.9609\n",
            "Epoch 159/161\n",
            " - 19s - loss: 0.0265 - acc: 0.9904 - val_loss: 0.2863 - val_acc: 0.9449\n",
            "Epoch 160/161\n",
            " - 19s - loss: 0.0327 - acc: 0.9887 - val_loss: 0.1799 - val_acc: 0.9564\n",
            "Epoch 161/161\n",
            " - 20s - loss: 0.0356 - acc: 0.9867 - val_loss: 0.1801 - val_acc: 0.9596\n"
          ],
          "name": "stdout"
        },
        {
          "output_type": "execute_result",
          "data": {
            "text/plain": [
              "<keras.callbacks.History at 0x7f8eb2a99128>"
            ]
          },
          "metadata": {
            "tags": []
          },
          "execution_count": 57
        }
      ]
    },
    {
      "cell_type": "code",
      "metadata": {
        "id": "vgsENw_k5sxA",
        "colab_type": "code",
        "outputId": "7265557a-a93d-417c-8de7-f31350d61cc0",
        "colab": {
          "base_uri": "https://localhost:8080/",
          "height": 100
        }
      },
      "source": [
        "# Confusion Matrix\n",
        "print(confusion_matrix_2(Y_test_static_ohe, model2.predict(X_test)))"
      ],
      "execution_count": 58,
      "outputs": [
        {
          "output_type": "stream",
          "text": [
            "Pred      LAYING  SITTING  STANDING\n",
            "True                               \n",
            "LAYING       537        0         0\n",
            "SITTING        2      450        39\n",
            "STANDING       0       22       510\n"
          ],
          "name": "stdout"
        }
      ]
    },
    {
      "cell_type": "code",
      "metadata": {
        "id": "KzY-smcz8yEl",
        "colab_type": "code",
        "outputId": "e45488d5-7557-451e-dd84-1fd9a79aecd8",
        "colab": {
          "base_uri": "https://localhost:8080/",
          "height": 33
        }
      },
      "source": [
        "score2 = model2.evaluate(X_test, Y_test_static_ohe)"
      ],
      "execution_count": 61,
      "outputs": [
        {
          "output_type": "stream",
          "text": [
            "1560/1560 [==============================] - 2s 2ms/step\n"
          ],
          "name": "stdout"
        }
      ]
    },
    {
      "cell_type": "code",
      "metadata": {
        "id": "Qx6VoCSP-J8l",
        "colab_type": "code",
        "outputId": "f3e21787-0423-4dda-bb4d-261e7e7d9bb6",
        "colab": {
          "base_uri": "https://localhost:8080/",
          "height": 33
        }
      },
      "source": [
        "score2"
      ],
      "execution_count": 64,
      "outputs": [
        {
          "output_type": "execute_result",
          "data": {
            "text/plain": [
              "[0.18009876538986808, 0.9679153846153846]"
            ]
          },
          "metadata": {
            "tags": []
          },
          "execution_count": 64
        }
      ]
    },
    {
      "cell_type": "markdown",
      "metadata": {
        "colab_type": "text",
        "id": "pWGx6kfCANfR"
      },
      "source": [
        "### CONCLUSION"
      ]
    },
    {
      "cell_type": "code",
      "metadata": {
        "colab_type": "code",
        "id": "k6IHbkaKAPtz",
        "outputId": "6b6707c6-e42d-4536-e9d5-4dd6243ff1fb",
        "colab": {
          "base_uri": "https://localhost:8080/",
          "height": 117
        }
      },
      "source": [
        "#http://zetcode.com/python/prettytable/\n",
        "\n",
        "from prettytable import PrettyTable\n",
        "    \n",
        "x = PrettyTable()\n",
        "\n",
        "x.field_names = [\"MODEL CLASSES\",\"ACCURACY\"]\n",
        "\n",
        "x.add_row([\"MODEL 1- DYNAMIC(WALKING, DOWNWARDS, UPWADRS)\",score1[1]])\n",
        "x.add_row([\"Model 2- STATIC(SITTING, STANDING, LAYING)\",score2[1]])\n",
        "\n",
        "\n",
        "print(x)\n"
      ],
      "execution_count": 78,
      "outputs": [
        {
          "output_type": "stream",
          "text": [
            "+-----------------------------------------------+--------------------+\n",
            "|                 MODEL CLASSES                 |      ACCURACY      |\n",
            "+-----------------------------------------------+--------------------+\n",
            "| MODEL 1- DYNAMIC(WALKING, DOWNWARDS, UPWADRS) | 0.9805335255948089 |\n",
            "|   Model 2- STATIC(SITTING, STANDING, LAYING)  | 0.9679153846153846 |\n",
            "+-----------------------------------------------+--------------------+\n"
          ],
          "name": "stdout"
        }
      ]
    },
    {
      "cell_type": "code",
      "metadata": {
        "id": "Wk-jEtUpSsZp",
        "colab_type": "code",
        "colab": {}
      },
      "source": [
        ""
      ],
      "execution_count": 0,
      "outputs": []
    }
  ]
}